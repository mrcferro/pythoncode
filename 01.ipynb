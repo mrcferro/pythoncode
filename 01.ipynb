{
 "cells": [
  {
   "cell_type": "markdown",
   "metadata": {},
   "source": [
    "# Básico do básico em Python"
   ]
  },
  {
   "cell_type": "code",
   "execution_count": 1,
   "metadata": {},
   "outputs": [
    {
     "name": "stdout",
     "output_type": "stream",
     "text": [
      "Hello World!\n"
     ]
    }
   ],
   "source": [
    "print(\"Hello World!\");"
   ]
  },
  {
   "cell_type": "code",
   "execution_count": 2,
   "metadata": {},
   "outputs": [],
   "source": [
    "# criando variável\n",
    "ano = 2021"
   ]
  },
  {
   "cell_type": "code",
   "execution_count": 3,
   "metadata": {},
   "outputs": [
    {
     "data": {
      "text/plain": [
       "2021"
      ]
     },
     "execution_count": 3,
     "metadata": {},
     "output_type": "execute_result"
    }
   ],
   "source": [
    "# imprimindo variável\n",
    "ano"
   ]
  },
  {
   "cell_type": "code",
   "execution_count": 4,
   "metadata": {},
   "outputs": [
    {
     "name": "stdout",
     "output_type": "stream",
     "text": [
      "2021\n"
     ]
    }
   ],
   "source": [
    "# imprimindo variável\n",
    "print(ano)"
   ]
  },
  {
   "cell_type": "code",
   "execution_count": 5,
   "metadata": {},
   "outputs": [
    {
     "name": "stdout",
     "output_type": "stream",
     "text": [
      "ano atual = 2021\n"
     ]
    }
   ],
   "source": [
    "# imprimindo texto + variável numérica (concatenação)\n",
    "print(\"ano atual = \" +  str(ano))"
   ]
  },
  {
   "cell_type": "code",
   "execution_count": 6,
   "metadata": {},
   "outputs": [
    {
     "name": "stdout",
     "output_type": "stream",
     "text": [
      "o valor da variavel ano =  2021\n"
     ]
    }
   ],
   "source": [
    "# imprimindo texto + variável numérica (lista de argumentos)\n",
    "print(\"o valor da variavel ano = \", ano)"
   ]
  },
  {
   "cell_type": "code",
   "execution_count": 7,
   "metadata": {},
   "outputs": [
    {
     "name": "stdout",
     "output_type": "stream",
     "text": [
      "2031 2011 20210 202.1 1\n"
     ]
    }
   ],
   "source": [
    "# operações aritméiticas\n",
    "soma           = ano + 10\n",
    "subtracao      = ano - 10\n",
    "multiplicacao  = ano * 10\n",
    "divisao        = ano / 10\n",
    "resto          = ano % 10\n",
    "\n",
    "print(soma, subtracao, multiplicacao, divisao, resto)\n",
    "\n"
   ]
  },
  {
   "cell_type": "code",
   "execution_count": 8,
   "metadata": {},
   "outputs": [
    {
     "name": "stdout",
     "output_type": "stream",
     "text": [
      "1\n",
      "2\n",
      "3\n",
      "4\n",
      "5\n",
      "6\n",
      "7\n",
      "8\n",
      "9\n",
      "10\n",
      "11\n"
     ]
    }
   ],
   "source": [
    "for i in range(1, 12):\n",
    "    print(i)"
   ]
  },
  {
   "cell_type": "code",
   "execution_count": 9,
   "metadata": {},
   "outputs": [
    {
     "name": "stdout",
     "output_type": "stream",
     "text": [
      "janeiro\n",
      "fevereiro\n",
      "março\n",
      "abril\n",
      "maio\n",
      "junho\n",
      "julho\n",
      "agosto\n",
      "setembro\n",
      "outubro\n",
      "novembro\n",
      "dezembro\n"
     ]
    }
   ],
   "source": [
    "meses = [\"janeiro\", \"fevereiro\", \"março\", \"abril\", \"maio\", \"junho\",\n",
    "        \"julho\", \"agosto\", \"setembro\", \"outubro\", \"novembro\", \"dezembro\"]\n",
    "\n",
    "for i in meses:\n",
    "    print(i)"
   ]
  },
  {
   "cell_type": "code",
   "execution_count": null,
   "metadata": {},
   "outputs": [],
   "source": []
  }
 ],
 "metadata": {
  "kernelspec": {
   "display_name": "Python 3",
   "language": "python",
   "name": "python3"
  },
  "language_info": {
   "codemirror_mode": {
    "name": "ipython",
    "version": 3
   },
   "file_extension": ".py",
   "mimetype": "text/x-python",
   "name": "python",
   "nbconvert_exporter": "python",
   "pygments_lexer": "ipython3",
   "version": "3.8.5"
  }
 },
 "nbformat": 4,
 "nbformat_minor": 4
}
